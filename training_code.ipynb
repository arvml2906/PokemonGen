{
  "cells": [
    {
      "cell_type": "code",
      "execution_count": null,
      "metadata": {
        "id": "Tslks8ZQ8sWf"
      },
      "outputs": [],
      "source": [
        "!pip install torch torchvision"
      ]
    },
    {
      "cell_type": "code",
      "execution_count": null,
      "metadata": {
        "colab": {
          "base_uri": "https://localhost:8080/"
        },
        "id": "3A_8XsX19Dch",
        "outputId": "9a237b64-97d4-4a38-cfb9-d9498829b8bd"
      },
      "outputs": [
        {
          "name": "stdout",
          "output_type": "stream",
          "text": [
            "Mounted at /content/drive\n"
          ]
        }
      ],
      "source": [
        "from google.colab import drive\n",
        "drive.mount('/content/drive')"
      ]
    },
    {
      "cell_type": "markdown",
      "metadata": {
        "id": "utmOZ5pUIyrG"
      },
      "source": [
        "# Importing Libraries"
      ]
    },
    {
      "cell_type": "code",
      "execution_count": null,
      "metadata": {
        "id": "QtQ9kzK39IQB"
      },
      "outputs": [],
      "source": [
        "import torch\n",
        "import torchvision\n",
        "import torch.nn as nn\n",
        "import torch.nn.functional as F"
      ]
    },
    {
      "cell_type": "code",
      "execution_count": null,
      "metadata": {
        "id": "vLEH86f59dVG"
      },
      "outputs": [],
      "source": [
        "IMAGE_DIM = (32, 32, 3)\n",
        "from model import Discriminator, Generator\n",
        "from dataloader import POKE"
      ]
    },
    {
      "cell_type": "code",
      "execution_count": null,
      "metadata": {
        "id": "hBukxkH99hBO"
      },
      "outputs": [],
      "source": [
        "from torch.utils.data import DataLoader\n",
        "from torch.utils.data.dataset import Dataset\n",
        "from torchvision import datasets\n",
        "from torchvision import transforms\n",
        "from torchvision.utils import save_image"
      ]
    },
    {
      "cell_type": "code",
      "execution_count": null,
      "metadata": {
        "id": "yKqPROqa9kP3"
      },
      "outputs": [],
      "source": [
        "import numpy as np\n",
        "import datetime\n",
        "import os, sys\n",
        "import glob\n",
        "from PIL import Image\n",
        "from matplotlib.pyplot import imshow, imsave\n",
        "%matplotlib inline"
      ]
    },
    {
      "cell_type": "code",
      "execution_count": null,
      "metadata": {
        "id": "bb0u4Fvo9oDk"
      },
      "outputs": [],
      "source": [
        "MODEL_NAME = 'DCGAN'\n",
        "DEVICE = torch.device(\"cuda:0\" if torch.cuda.is_available() else \"cpu\")"
      ]
    },
    {
      "cell_type": "code",
      "execution_count": null,
      "metadata": {
        "id": "xvOsuSpE90c1"
      },
      "outputs": [],
      "source": [
        "def get_sample_image(G, n_noise):\n",
        "    \"\"\"\n",
        "        save sample 100 images\n",
        "    \"\"\"\n",
        "    z = torch.randn(10, n_noise).to(DEVICE)\n",
        "    y_hat = G(z).view(10, 3, 32, 32).permute(0, 2, 3, 1) # (100, 28, 28)\n",
        "    result = (y_hat.detach().cpu().numpy()+1)/2.\n",
        "    return result"
      ]
    },
    {
      "cell_type": "code",
      "execution_count": null,
      "metadata": {
        "id": "6iWlHYqZwTpk"
      },
      "outputs": [],
      "source": [
        "!unzip -q \"drive/My Drive/ZIP_FILES/PokemonImg.zip\" -d \"Dataset2\" | head -n 5"
      ]
    },
    {
      "cell_type": "markdown",
      "metadata": {
        "id": "kOOJQEzWI69g"
      },
      "source": [
        "# Unwanted Images(Grayscale Images)"
      ]
    },
    {
      "cell_type": "code",
      "execution_count": null,
      "metadata": {
        "colab": {
          "base_uri": "https://localhost:8080/"
        },
        "id": "2WK-70IfVNmg",
        "outputId": "ebce84b3-acf5-4333-ae29-b1bdfda8783b"
      },
      "outputs": [
        {
          "name": "stdout",
          "output_type": "stream",
          "text": [
            "Number of unwanted images: 549\n",
            "['Dataset2/PokemonImg/9a74519575c540d3963296a36bbd25d7.jpg', 'Dataset2/PokemonImg/91fab894d10b4a33b1bdf7c9f7990137.jpg', 'Dataset2/PokemonImg/610e57345d9c48bebb6afe7c5bdaef20.jpg', 'Dataset2/PokemonImg/00000237.png', 'Dataset2/PokemonImg/bb7a1ff8f3c3472b9cb0f5c1d48fa650.jpg', 'Dataset2/PokemonImg/00000121.png', 'Dataset2/PokemonImg/21dd24c7a7754d0188cab0ea595c7c89.jpg', 'Dataset2/PokemonImg/ba6dfaf01d2449e7a6047230e5958249.jpg', 'Dataset2/PokemonImg/482fea09f70f47a79a6885e2a654a426.jpg', 'Dataset2/PokemonImg/c59e2bc85b1840bea2d74c6b770612a3.jpg', 'Dataset2/PokemonImg/00000174.png', 'Dataset2/PokemonImg/1997556785c144dbb79f8caacdf9883c.jpg', 'Dataset2/PokemonImg/09c63b017432480d9c9d63ed44f4c9df.jpg', 'Dataset2/PokemonImg/e23ff8044efa47f1a7d636dd9474bc4f.jpg', 'Dataset2/PokemonImg/99149b4e20114cf18e031fabdb2b8c0e.jpg', 'Dataset2/PokemonImg/d7ac514ad0ef4fb9999e8901a69e444c.jpg', 'Dataset2/PokemonImg/2a06cdb2d8104cddb7b056e24b3b523e.jpg', 'Dataset2/PokemonImg/97856a45a1594030b7aa8b261a9bb08c.jpg', 'Dataset2/PokemonImg/1f3438c9313e45a9af6b7d092ab03f62.jpg', 'Dataset2/PokemonImg/fb1efd5f6d434b2984b58a077f43fb57.jpg', 'Dataset2/PokemonImg/f8c923b71e90496d9b12fd81dedfe6d6.jpg', 'Dataset2/PokemonImg/00000088.png', 'Dataset2/PokemonImg/00000061.png', 'Dataset2/PokemonImg/e8f4b89df80744caa17bbab8926d063c.jpg', 'Dataset2/PokemonImg/64b337cabc0f41b1a8220a654323ae14.jpg', 'Dataset2/PokemonImg/4071e7c2233548fda51ddf5d7948807a.jpg', 'Dataset2/PokemonImg/00000118.png', 'Dataset2/PokemonImg/c6d52fb9626e4d479d4b03bd5fe0d44a.jpg', 'Dataset2/PokemonImg/00000012.png', 'Dataset2/PokemonImg/b558efd3d5344f608bb69ed35c1d7ec4.jpg', 'Dataset2/PokemonImg/2447ee218b3c4f5f976fa083cb0a42c5.jpg', 'Dataset2/PokemonImg/6f60ec11e5bb437a9c21e13314deef2f.jpg', 'Dataset2/PokemonImg/00000158.png', 'Dataset2/PokemonImg/7a57b41fe3a2440a951c9e96266a9bd1.jpg', 'Dataset2/PokemonImg/00000213.png', 'Dataset2/PokemonImg/00000058.png', 'Dataset2/PokemonImg/4bb4672e541d495791d93586fc5f5b83.jpg', 'Dataset2/PokemonImg/335a0bba9fe54d2caa126127630edf59.jpg', 'Dataset2/PokemonImg/d1633622c82a434ebff07fb2ac5e6701.jpg', 'Dataset2/PokemonImg/6abff061fc5f49f09cfdc6df44aeb39e.jpg', 'Dataset2/PokemonImg/f2a36174d01544cfa49af7c754aa5e30.jpg', 'Dataset2/PokemonImg/d62860c6bfd74994acf61d22b6afe635.jpg', 'Dataset2/PokemonImg/00000031.png', 'Dataset2/PokemonImg/d905661ec1b9479fb1bb30bd751b291e.jpg', 'Dataset2/PokemonImg/ab6b9f0b8c054fb9b518adf0a5a3ef98.jpg', 'Dataset2/PokemonImg/37e657cc2dab46ed8f8b93a838cc8b00.jpg', 'Dataset2/PokemonImg/00000060.png', 'Dataset2/PokemonImg/c44f941f7f724a73bf264fd923f1e270.jpg', 'Dataset2/PokemonImg/dc9d548172934300869d698fd4af254a.jpg', 'Dataset2/PokemonImg/065e79403c774ea288646043465a393f.jpg', 'Dataset2/PokemonImg/00000160.png', 'Dataset2/PokemonImg/00000057.png', 'Dataset2/PokemonImg/232479b9b50c42b49960e76befa2c36a.jpg', 'Dataset2/PokemonImg/4d05f109c9364aa3a742ee15967a997f.jpg', 'Dataset2/PokemonImg/00000092.png', 'Dataset2/PokemonImg/9d144f3a4a4242febf420688d8ffce2c.jpg', 'Dataset2/PokemonImg/af3be8647046485db2b5e00bb807060c.jpg', 'Dataset2/PokemonImg/82eaeda74664457d8229751bb4e08ea4.jpg', 'Dataset2/PokemonImg/2620506bcb1d403d92e849318fe7af8e.jpg', 'Dataset2/PokemonImg/48c3191b44334eef8fc0123c60018b90.jpg', 'Dataset2/PokemonImg/463697e930444306a358a3d9f77eeb36.jpg', 'Dataset2/PokemonImg/4c5cb34e52dd446886086a44276b8c65.jpg', 'Dataset2/PokemonImg/459c503f41304f9288e6c59f6eadc364.jpg', 'Dataset2/PokemonImg/d8931ea4318141f68837888351ba6bf9.jpg', 'Dataset2/PokemonImg/00000091.png', 'Dataset2/PokemonImg/34679eb034904068b52c9e9bd182aeda.jpg', 'Dataset2/PokemonImg/d9adc6af66774eabbda7d4c69c560234.jpg', 'Dataset2/PokemonImg/d201103ccb7442b39f0d10358cd84c74.jpg', 'Dataset2/PokemonImg/af22f34554654b10b9e96b5616ff963a.jpg', 'Dataset2/PokemonImg/f3ea7332e05d4a199bc4e74e97c2b8cd.jpg', 'Dataset2/PokemonImg/b2c2354b0dfd4e8dac830f6a735d3a25.jpg', 'Dataset2/PokemonImg/209e94df757947b780d735a3be05eec9.jpg', 'Dataset2/PokemonImg/00000070.png', 'Dataset2/PokemonImg/6cd2c2d0079f46c4b64111da83a7e770.jpg', 'Dataset2/PokemonImg/d474f436c01440e9801ead4bb48ef9e8.jpg', 'Dataset2/PokemonImg/5e6be96a3445419ab834024218e405d2.jpg', 'Dataset2/PokemonImg/2de68cafe83a40aa8f4fa7409f03f8bb.jpg', 'Dataset2/PokemonImg/d6e5b33a28bc4234a07cd07c946d572a.jpg', 'Dataset2/PokemonImg/00000043.png', 'Dataset2/PokemonImg/00000085.png', 'Dataset2/PokemonImg/00000101.png', 'Dataset2/PokemonImg/96a16a8730c343e0881c3c678e7da0cc.jpg', 'Dataset2/PokemonImg/00000206.png', 'Dataset2/PokemonImg/c122ce061c8249b7acfcf22068822123.jpg', 'Dataset2/PokemonImg/ec727eb6d457450b9c43c3bb87673052.jpg', 'Dataset2/PokemonImg/b541b29d14c047be83fbd55e382910ac.jpg', 'Dataset2/PokemonImg/c7d2064d256b41fb9ab5a23abdb1f3de.jpg', 'Dataset2/PokemonImg/edff8aa47fbc4bf0a03524f3d5907545.jpg', 'Dataset2/PokemonImg/65928b8d9b5747e185ae22f2dd10f88d.jpg', 'Dataset2/PokemonImg/00000191.png', 'Dataset2/PokemonImg/00000018.png', 'Dataset2/PokemonImg/cb9e777efbbc45f4ba0a6c8cc90dc389.jpg', 'Dataset2/PokemonImg/4b780371e5294f46850766fd56a5b121.jpg', 'Dataset2/PokemonImg/00000005.png', 'Dataset2/PokemonImg/31b2d81a08744198bde81a9f84d25741.jpg', 'Dataset2/PokemonImg/00000056.png', 'Dataset2/PokemonImg/74c58fa11c1341c694b5bb8230b57f8c.jpg', 'Dataset2/PokemonImg/99c11ad45a4b43dd9d0b24c981e64ab8.jpg', 'Dataset2/PokemonImg/4e816f22f20a41f68ce597699c078820.jpg', 'Dataset2/PokemonImg/fbad1c9614564f40a2a62863a90d7b60.jpg', 'Dataset2/PokemonImg/00000113.png', 'Dataset2/PokemonImg/4fad39a69bf44ac19f86a7e03583f093.jpg', 'Dataset2/PokemonImg/d08f9fdbbfdd4401ba4f3ec0f4fd758b.jpg', 'Dataset2/PokemonImg/00000082.png', 'Dataset2/PokemonImg/00000178.png', 'Dataset2/PokemonImg/7d44692a3a004711aaf06fda2c601b55.jpg', 'Dataset2/PokemonImg/e5589139d1ab4268b0ce0aadeee831ff.jpg', 'Dataset2/PokemonImg/313e9aeae8914afaae404edfd8b9bb0d.jpg', 'Dataset2/PokemonImg/00000224.png', 'Dataset2/PokemonImg/29e30c6d15e9473a8c2404cf92d80772.jpg', 'Dataset2/PokemonImg/00000009.png', 'Dataset2/PokemonImg/00000094.png', 'Dataset2/PokemonImg/fe85bf1b5e8a4bbdb612bbd27e516906.jpg', 'Dataset2/PokemonImg/19f8d04870f34a35a529c9f106c52e7f.jpg', 'Dataset2/PokemonImg/49d5010b83c7474d9e56e7640e9cba34.jpg', 'Dataset2/PokemonImg/eb75cd52218c4baeb79512aa3a0888cf.jpg', 'Dataset2/PokemonImg/00000215.png', 'Dataset2/PokemonImg/00000132.png', 'Dataset2/PokemonImg/10982eec77424c3a871ed747928326ff.jpg', 'Dataset2/PokemonImg/d3a5e35c4d6b499abd9fa03da4faa974.jpg', 'Dataset2/PokemonImg/895d3c4a51cb4fdf8e18fecfa394ce98.jpg', 'Dataset2/PokemonImg/00000042.png', 'Dataset2/PokemonImg/8c0866fdc08243928f877b432a61e021.jpg', 'Dataset2/PokemonImg/b6afe6bb30bd464291ca3d4a6e0a8338.jpg', 'Dataset2/PokemonImg/cf0689ddc6d644f587663d26eeed87b6.jpg', 'Dataset2/PokemonImg/6979337edbb94efbaf73fb9936390813.jpg', 'Dataset2/PokemonImg/bfb88a91f692472fb045eb69b8203d9a.jpg', 'Dataset2/PokemonImg/c9c958344a1440ad957e45cf924d08c9.jpg', 'Dataset2/PokemonImg/d23db9de36854d3788422a69d682f5ac.jpg', 'Dataset2/PokemonImg/59bef3942b6041b3a6e0526100264536.jpg', 'Dataset2/PokemonImg/00000166.png', 'Dataset2/PokemonImg/f9592a86dde14b22b3377864f7a9a2b3.jpg', 'Dataset2/PokemonImg/00000076.png', 'Dataset2/PokemonImg/00000064.png', 'Dataset2/PokemonImg/00000078.png', 'Dataset2/PokemonImg/00000047.png', 'Dataset2/PokemonImg/00000011.png', 'Dataset2/PokemonImg/b21d54a60d254f60918b3f2e361e6485.jpg', 'Dataset2/PokemonImg/8c828f0c613f4feda674bf2eb8ca5d2d.jpg', 'Dataset2/PokemonImg/eca87695ab0148fa8be01e3b02ca7c2d.jpg', 'Dataset2/PokemonImg/00000024.png', 'Dataset2/PokemonImg/bdd20c9d26344eba9ca4cc40edcfd641.jpg', 'Dataset2/PokemonImg/f972d520e60642da9f1586fb14a4472c.jpg', 'Dataset2/PokemonImg/109499f327a84c279747c6017959df5e.jpg', 'Dataset2/PokemonImg/0efb4b1271eb40f48cab721e086cdbff.jpg', 'Dataset2/PokemonImg/f0db1adeb60540c182c562795267287a.jpg', 'Dataset2/PokemonImg/00000199.png', 'Dataset2/PokemonImg/b9a0e1ad1b894c908aafd09a840ef949.jpg', 'Dataset2/PokemonImg/cbc0bc1b8b6842ec897faaab7aab96db.jpg', 'Dataset2/PokemonImg/e9b59bd70a8b478e897801f484419e24.jpg', 'Dataset2/PokemonImg/00000010.png', 'Dataset2/PokemonImg/f5e816120df942fe8e6ebfb82f83b236.jpg', 'Dataset2/PokemonImg/0530a539e0c84640894799a6fe2a6341.jpg', 'Dataset2/PokemonImg/00000096.png', 'Dataset2/PokemonImg/00000017.png', 'Dataset2/PokemonImg/0851bfd70a594e168ab6e55253e6c0fe.jpg', 'Dataset2/PokemonImg/bd8519d70a54470aafca49935a82030d.jpg', 'Dataset2/PokemonImg/00000111.png', 'Dataset2/PokemonImg/00000086.png', 'Dataset2/PokemonImg/84f46fdb8d77421ca00b1f66aae0cd97.jpg', 'Dataset2/PokemonImg/00000163.png', 'Dataset2/PokemonImg/99339be42b5f4d18b2df2fd706f6ef8d.jpg', 'Dataset2/PokemonImg/958a7c28e1184c548dc04bda8d6d8bc9.jpg', 'Dataset2/PokemonImg/17f939ae9a2e4869b4eb9d54ca9d6623.jpg', 'Dataset2/PokemonImg/00000071.png', 'Dataset2/PokemonImg/22ce8471394047b4b2320c3727a56cbb.jpg', 'Dataset2/PokemonImg/00000175.png', 'Dataset2/PokemonImg/00000230.png', 'Dataset2/PokemonImg/4907a20951204138ad096540a70f26f2.jpg', 'Dataset2/PokemonImg/00000050.png', 'Dataset2/PokemonImg/3af257e4bd9d432089e0223fed5462d1.jpg', 'Dataset2/PokemonImg/ae13043a24694328b18a404317455fd8.jpg', 'Dataset2/PokemonImg/7b071d13c7c94d6ea8e5474f626970ec.jpg', 'Dataset2/PokemonImg/00000079.png', 'Dataset2/PokemonImg/2b4eb01b068347bab3051ac22a708c13.jpg', 'Dataset2/PokemonImg/00000144.png', 'Dataset2/PokemonImg/d249cb680bb94eecaa60a866494267b1.jpg', 'Dataset2/PokemonImg/00000049.png', 'Dataset2/PokemonImg/a71dceb830024c68b3c865c4dbd5bdd3.jpg', 'Dataset2/PokemonImg/5def45569480407c949d3176c9b99eba.jpg', 'Dataset2/PokemonImg/ceb153a962e64e85888dfc71743c9fe4.jpg', 'Dataset2/PokemonImg/63792ac9277d4b7b824c3ff06d843daa.jpg', 'Dataset2/PokemonImg/2e5eb590f6484ff68e90b42a40d351f6.jpg', 'Dataset2/PokemonImg/00000059.png', 'Dataset2/PokemonImg/00000226.png', 'Dataset2/PokemonImg/b01ac9091dd54ac2ba324785a4c5a92c.jpg', 'Dataset2/PokemonImg/1d8c4ffee6fa43cf9d3bdd715b756538.jpg', 'Dataset2/PokemonImg/2a93df4cedc147b79d95b440c6945dd6.jpg', 'Dataset2/PokemonImg/ea9e520695e84888af629097cdf8aa1f.jpg', 'Dataset2/PokemonImg/00000074.png', 'Dataset2/PokemonImg/00000051.png', 'Dataset2/PokemonImg/523e288af76f460cb7acada9e92a9fcd.jpg', 'Dataset2/PokemonImg/a2b5a613158d4f138121a86093d965eb.jpg', 'Dataset2/PokemonImg/00000077.png', 'Dataset2/PokemonImg/00000169.png', 'Dataset2/PokemonImg/67f731d9fc444e40a6e671dc2aecb6f8.jpg', 'Dataset2/PokemonImg/bbdaec0b719a4687bec963aabf39ef36.jpg', 'Dataset2/PokemonImg/00000171.png', 'Dataset2/PokemonImg/ca18646853c141348555841316dc5a56.jpg', 'Dataset2/PokemonImg/59d95fcfe88046bdba9b2db45e6fdef7.jpg', 'Dataset2/PokemonImg/00000173.png', 'Dataset2/PokemonImg/00000066.png', 'Dataset2/PokemonImg/00000183.png', 'Dataset2/PokemonImg/92d80e563ae942739794fe3a316862dd.jpg', 'Dataset2/PokemonImg/00000001.png', 'Dataset2/PokemonImg/8455cca33450455280b088e2e2e96a98.jpg', 'Dataset2/PokemonImg/86aa29cc960d44c68513b20479ba53d3.jpg', 'Dataset2/PokemonImg/06f504f53e0d4eb98b0c2751813103ce.jpg', 'Dataset2/PokemonImg/00000239.png', 'Dataset2/PokemonImg/00000029.png', 'Dataset2/PokemonImg/9c26d0303ce343d190c938450e0e776e.jpg', 'Dataset2/PokemonImg/e7ffbad6f4b84beda3d43acbccd3bf03.jpg', 'Dataset2/PokemonImg/00000035.png', 'Dataset2/PokemonImg/9b6b3d7f1ebe4564a10967754a866c31.jpg', 'Dataset2/PokemonImg/fefc863375934d7abd53e8570c0d6aa9.jpg', 'Dataset2/PokemonImg/b16afda4d6d5428187ab09f3993eefeb.jpg', 'Dataset2/PokemonImg/e84a5ce712eb49d59cd5d85123e302c1.jpg', 'Dataset2/PokemonImg/afc754447d324633aaf6439330deac3f.jpg', 'Dataset2/PokemonImg/d3a2649834594287a96661ca811c1d09.jpg', 'Dataset2/PokemonImg/00000068.png', 'Dataset2/PokemonImg/00000030.png', 'Dataset2/PokemonImg/00000142.png', 'Dataset2/PokemonImg/bca47d41851d4593bc95f7aad560ff8b.jpg', 'Dataset2/PokemonImg/0ccfa92432d64ea789226c9613a5496f.jpg', 'Dataset2/PokemonImg/f9082286df7a4e7a9f0ffe9f62d58b72.jpg', 'Dataset2/PokemonImg/a7f4404c6c2e4cb19f9562ff79c4a767.jpg', 'Dataset2/PokemonImg/80298dab6a5b42f99a3172825d68c174.jpg', 'Dataset2/PokemonImg/11863d77811a442b9e639de0e260794d.jpg', 'Dataset2/PokemonImg/91aded62fe6c4938a4ecb693528b5f54.jpg', 'Dataset2/PokemonImg/00000130.png', 'Dataset2/PokemonImg/00000104.png', 'Dataset2/PokemonImg/0448da835c624285a2f3e8e8fa5fa599.jpg', 'Dataset2/PokemonImg/135f57b9aa9c40e7846698637f7f4e33.jpg', 'Dataset2/PokemonImg/f5bda5584e52491d8b89e08a5f8bc3aa.jpg', 'Dataset2/PokemonImg/00000109.png', 'Dataset2/PokemonImg/f564c09cbda041b98b04fea4a39a1c0f.jpg', 'Dataset2/PokemonImg/00000028.png', 'Dataset2/PokemonImg/ac6b5aacccee4632b418431c4e4fe3a7.jpg', 'Dataset2/PokemonImg/00000117.png', 'Dataset2/PokemonImg/ad0ee9e0fbc940aab68b9fa21ad6b46b.jpg', 'Dataset2/PokemonImg/e40bbdd33aee4337b4ddeecd27f88248.jpg', 'Dataset2/PokemonImg/509aaf88194a4f6a8ae912aff5458790.jpg', 'Dataset2/PokemonImg/0f76641ceb944d018572e1309c96059d.jpg', 'Dataset2/PokemonImg/bd0c4babb99f4482a30c28dfab9b1888.jpg', 'Dataset2/PokemonImg/8d4526bb95be4cadbea17b8183be592a.jpg', 'Dataset2/PokemonImg/1805923fe5094f638533b56960329057.jpg', 'Dataset2/PokemonImg/d8ad1dad8e76459196de9499688aa1a3.jpg', 'Dataset2/PokemonImg/00000025.png', 'Dataset2/PokemonImg/6f4995cca516437196ff315ae5de9a62.jpg', 'Dataset2/PokemonImg/07b3208c45f24a5097241689c5fc4f62.jpg', 'Dataset2/PokemonImg/f40c016deaee48d8bd55ec44736f2581.jpg', 'Dataset2/PokemonImg/fdef4b18506f4226979e5b64d30fde3b.jpg', 'Dataset2/PokemonImg/1418d72441d74330a551c5b993441725.jpg', 'Dataset2/PokemonImg/3acbf68a9f4e4c738960f80cd9b59181.jpg', 'Dataset2/PokemonImg/00000193.png', 'Dataset2/PokemonImg/a097893d54bf49f8b72d222d90785656.jpg', 'Dataset2/PokemonImg/2c089008575841219db77f2e9d66d508.jpg', 'Dataset2/PokemonImg/00000231.png', 'Dataset2/PokemonImg/530a04af99df47b6863a72a3467292e9.jpg', 'Dataset2/PokemonImg/00000209.png', 'Dataset2/PokemonImg/00000228.png', 'Dataset2/PokemonImg/8cbf4e4bd89f40d18d6ecdb80065d304.jpg', 'Dataset2/PokemonImg/431b7a39ffc946d69d4da2e22de49998.jpg', 'Dataset2/PokemonImg/00000216.png', 'Dataset2/PokemonImg/24a31194a5bc4f149fe05b0386070332.jpg', 'Dataset2/PokemonImg/4a1628377cab40b094012d3852b346a1.jpg', 'Dataset2/PokemonImg/00000026.png', 'Dataset2/PokemonImg/1ff542a306474670b811323754781957.jpg', 'Dataset2/PokemonImg/a89bd7651749402693e9b7d7ac4d94c2.jpg', 'Dataset2/PokemonImg/074a3ce8b68a408d994dc7062c689b7f.jpg', 'Dataset2/PokemonImg/00000129.png', 'Dataset2/PokemonImg/a1a250d60a84440a8524441ce7b9d306.jpg', 'Dataset2/PokemonImg/53b7b0e31daa42fb9e829596a8036530.jpg', 'Dataset2/PokemonImg/00000099.png', 'Dataset2/PokemonImg/8d18bd13c4a744129b1c22911ec932b6.jpg', 'Dataset2/PokemonImg/88f9362eb0a74474bc6d3d4f33c58cf5.jpg', 'Dataset2/PokemonImg/00000190.png', 'Dataset2/PokemonImg/3d70b8e63a0247a0b106acec3d508617.jpg', 'Dataset2/PokemonImg/00000046.png', 'Dataset2/PokemonImg/00000084.png', 'Dataset2/PokemonImg/f0182266bea247bdb4fb83f6aec486da.jpg', 'Dataset2/PokemonImg/1c692a0fd3f743d4854049a8edc59f43.jpg', 'Dataset2/PokemonImg/2fd04bde60b0495bacf47e73ca1f3451.jpg', 'Dataset2/PokemonImg/07285b05acf144469019b8b661b4a801.jpg', 'Dataset2/PokemonImg/8a72fbccb86d452bb1f9b32678b0df36.jpg', 'Dataset2/PokemonImg/9b110bbf05a94f829a75b5b8f8873160.jpg', 'Dataset2/PokemonImg/c02d6902221746c9b421216ff38be743.jpg', 'Dataset2/PokemonImg/0cdabdb97ab24e21b6de500463ae4452.jpg', 'Dataset2/PokemonImg/b84054f3d8e145249a4bdc6a42a3cc98.jpg', 'Dataset2/PokemonImg/dc239fd962ba4c1eb11ebaecc52d1f41.jpg', 'Dataset2/PokemonImg/00000170.png', 'Dataset2/PokemonImg/00000033.png', 'Dataset2/PokemonImg/00000242.png', 'Dataset2/PokemonImg/1d6f1af63d464ca6a31681628cd6043e.jpg', 'Dataset2/PokemonImg/249d8fabc9bf4560a7436d71650063ac.jpg', 'Dataset2/PokemonImg/00000172.png', 'Dataset2/PokemonImg/3021a25efbb8401db316a6e773199c43.jpg', 'Dataset2/PokemonImg/00000119.png', 'Dataset2/PokemonImg/c624252e8905496992a5ad93cc55ec55.jpg', 'Dataset2/PokemonImg/8e76c2d4765b45a1a93a3baf27d21dc0.jpg', 'Dataset2/PokemonImg/bed851bfa410481eb7cbb0f424c52c12.jpg', 'Dataset2/PokemonImg/00000141.png', 'Dataset2/PokemonImg/bddbf64e019d44519e83189973253ffd.jpg', 'Dataset2/PokemonImg/27dd75a390aa4bb490a7927d7a7c311f.jpg', 'Dataset2/PokemonImg/ab014e620783468c8e207667edddea5f.jpg', 'Dataset2/PokemonImg/f5dc566441f4448bad6b053f338e14cf.jpg', 'Dataset2/PokemonImg/00000205.jpg', 'Dataset2/PokemonImg/ebee15eb30e640d69c795cd91b968522.jpg', 'Dataset2/PokemonImg/a445ddff0c6640a381e2da954f117e88.jpg', 'Dataset2/PokemonImg/09daf54fd9d945db8b8afef77eef59df.jpg', 'Dataset2/PokemonImg/b7b614bfcdc749c79dc913c8d816efe4.jpg', 'Dataset2/PokemonImg/aa197ed1f4ae4bf9bb7b349b8873c4aa.jpg', 'Dataset2/PokemonImg/106acc4363d84b8b8b1187a91faaf0e2.jpg', 'Dataset2/PokemonImg/d9a1ee3059c241ac94f3ac830e23fbe6.jpg', 'Dataset2/PokemonImg/00000016.png', 'Dataset2/PokemonImg/72669fc9eb4241e181da30206eef1e74.jpg', 'Dataset2/PokemonImg/00000048.png', 'Dataset2/PokemonImg/df18276668a8443f8551e6a8caf3c673.jpg', 'Dataset2/PokemonImg/aa074fc0e3a4465c8b088921f0ba283e.jpg', 'Dataset2/PokemonImg/edddcbe234ab45d5ba13b4ef0a9d91ce.jpg', 'Dataset2/PokemonImg/65769627801340898ee007b16bad84e6.jpg', 'Dataset2/PokemonImg/9b3766923fee4e1b9dff4f0ace3d654f.jpg', 'Dataset2/PokemonImg/18db6cd2f1bb45448340de39e258c12b.jpg', 'Dataset2/PokemonImg/e2db8f69068f4458ba3ad1828cbad109.jpg', 'Dataset2/PokemonImg/72277271d93040a39d66cbfdc1c7adb8.jpg', 'Dataset2/PokemonImg/5a5074df9e17442e8569a2b8084c80dd.jpg', 'Dataset2/PokemonImg/778524d71f4a47a9a99d5d04e0043269.jpg', 'Dataset2/PokemonImg/1b17adb1ce3b4a70abb3cff070777c9e.jpg', 'Dataset2/PokemonImg/b93b78dbe62c4287be9ff244007d31e5.jpg', 'Dataset2/PokemonImg/b92de1c2f3a84bbca27ca21c6dcad7be.jpg', 'Dataset2/PokemonImg/50bbec0f3d7e402a981db9e0722d2966.jpg', 'Dataset2/PokemonImg/f799e34747d74f218bfcca49c0216877.jpg', 'Dataset2/PokemonImg/00000097.png', 'Dataset2/PokemonImg/d88bd490da2c43f09090deb3236dc028.jpg', 'Dataset2/PokemonImg/d5f4148ca28145f38913f11c392ad1b8.jpg', 'Dataset2/PokemonImg/807f912c69864df7a9b7ba98b774530e.jpg', 'Dataset2/PokemonImg/7a041727ad264b869df69f4ca5296787.jpg', 'Dataset2/PokemonImg/00000107.png', 'Dataset2/PokemonImg/ecf8bc21150a47509304e80e1ea8d4fa.jpg', 'Dataset2/PokemonImg/c5d250cee7564e4481ed3d53892118b8.jpg', 'Dataset2/PokemonImg/3d56a927524e4836b6b5cc95fb656252.jpg', 'Dataset2/PokemonImg/f52aabd79e5044709e1fbc5517b539e5.jpg', 'Dataset2/PokemonImg/dd1db4732456430595480d45fccbfb45.jpg', 'Dataset2/PokemonImg/c78461c8efa44650bfddd64ebb3ee1f5.jpg', 'Dataset2/PokemonImg/0999f6532a1b46dfa9aae2aea7417b50.jpg', 'Dataset2/PokemonImg/b2827ec5ff3e45cb88416d77ad45ed8f.jpg', 'Dataset2/PokemonImg/00000023.png', 'Dataset2/PokemonImg/ffb1d000a20a4b4681cfa2537fc74d38.jpg', 'Dataset2/PokemonImg/00000021.png', 'Dataset2/PokemonImg/f3778c04b317426da822395c5f064b8e.jpg', 'Dataset2/PokemonImg/716c497714224ff190e5fc9dd9cb0828.jpg', 'Dataset2/PokemonImg/c3f0d4c5280c4281a63748e135111844.jpg', 'Dataset2/PokemonImg/64456037d97d48beb05dc96316db9781.jpg', 'Dataset2/PokemonImg/c9d72c5a483146a28e17a54e6cb4d32a.jpg', 'Dataset2/PokemonImg/7477cc1110634b399d55acce2ffe54ce.jpg', 'Dataset2/PokemonImg/e803276afa214ad0adc8bb54ca2fa13b.jpg', 'Dataset2/PokemonImg/9a5558ee97f948689023c078d8f2d0d2.jpg', 'Dataset2/PokemonImg/e2266718438d464680c0f661fcbb8bff.jpg', 'Dataset2/PokemonImg/23cf175a97a345e3a7f5e58c80f40b8e.jpg', 'Dataset2/PokemonImg/40155af82b7340a5930582c1a467ee20.jpg', 'Dataset2/PokemonImg/c910e7816cf64409bec3ad1e8ae05211.jpg', 'Dataset2/PokemonImg/00000152.png', 'Dataset2/PokemonImg/1d4cfe2be25f4e659bf3d51b03664ba9.jpg', 'Dataset2/PokemonImg/b45513a72510410b96e7f2dc931d95f4.jpg', 'Dataset2/PokemonImg/974c88b57cc04257a2a563b7d49c2852.jpg', 'Dataset2/PokemonImg/67d66a2cbb71420fbbeb33532f7996d8.jpg', 'Dataset2/PokemonImg/00000075.png', 'Dataset2/PokemonImg/575cbef7fb73482da26ac7269df8edd2.jpg', 'Dataset2/PokemonImg/94e05323d36b4f2a915d24db79670c2e.jpg', 'Dataset2/PokemonImg/9e638b536f1a458da8bf8c44fb3f7b6e.jpg', 'Dataset2/PokemonImg/f8223ddc22ed45c488f91993a4826336.jpg', 'Dataset2/PokemonImg/00000153.png', 'Dataset2/PokemonImg/4c5086ba252049dd95fbed79e1cd0509.jpg', 'Dataset2/PokemonImg/a7712d25c62d4551addb55002d34b891.jpg', 'Dataset2/PokemonImg/e30256b4699446b7b9b242d42375b90a.jpg', 'Dataset2/PokemonImg/57f7d432c2764d77822645ea6935bb02.jpg', 'Dataset2/PokemonImg/a2f8620815e6490f95cee13177849aa6.jpg', 'Dataset2/PokemonImg/dca25dbff5e345f888626d65f3b5704a.jpg', 'Dataset2/PokemonImg/67e860cff57c40d6bd0b303db4a4f04f.jpg', 'Dataset2/PokemonImg/c711419311d749e28d47cb697f5ce8fe.jpg', 'Dataset2/PokemonImg/d361ddeedf4148e582fe5a7de005d91c.jpg', 'Dataset2/PokemonImg/c8de8018fc344606b0b71d352f341d62.jpg', 'Dataset2/PokemonImg/d9bed0de736b40e5a237dc036678f08f.jpg', 'Dataset2/PokemonImg/e6a99658a7af4da496eeb87b7f7a0d87.jpg', 'Dataset2/PokemonImg/5503eb69b3124160b6b380a7af0f2697.jpg', 'Dataset2/PokemonImg/71d203adaa7248fab5488ee7a59f9f41.jpg', 'Dataset2/PokemonImg/179cd2aa86b34f90aaf7e3c27e78daf6.jpg', 'Dataset2/PokemonImg/ea9ad5fd283a4c3586ea70fed9b8ce1c.jpg', 'Dataset2/PokemonImg/00000114.png', 'Dataset2/PokemonImg/03b6cd3b469b49c2b646c4a4441376ed.jpg', 'Dataset2/PokemonImg/2826f40da31b4caa80c0fef7e95f5d1d.jpg', 'Dataset2/PokemonImg/00000133.png', 'Dataset2/PokemonImg/00000006.png', 'Dataset2/PokemonImg/dd680583e95c45be87af28fb56779449.jpg', 'Dataset2/PokemonImg/00000081.png', 'Dataset2/PokemonImg/562ccf7d23364f67a2fb76e6653621ce.jpg', 'Dataset2/PokemonImg/e20dd0c9dbae4a299b32be5f486e4143.jpg', 'Dataset2/PokemonImg/26cd745d4a7943c5af9a20fef4f90fad.jpg', 'Dataset2/PokemonImg/ef9023e989674c058b20b98a29950d72.jpg', 'Dataset2/PokemonImg/00000217.png', 'Dataset2/PokemonImg/8682e563eb8d4bc18f3159fffb47015c.jpg', 'Dataset2/PokemonImg/22e7594244fa42079b706fde66796282.jpg', 'Dataset2/PokemonImg/8a4b9c6550ac4de1b83f3cd57ff0bc04.jpg', 'Dataset2/PokemonImg/2ea067995c5843bb89b1f8e6f776e0ce.jpg', 'Dataset2/PokemonImg/425cb8a6114346328ff68f40c4a00f32.jpg', 'Dataset2/PokemonImg/2b12b0dcc18a4481baa21b290da673ff.jpg', 'Dataset2/PokemonImg/00000139.png', 'Dataset2/PokemonImg/d4c4171b3f5b4ec4ab3f949197510e9d.jpg', 'Dataset2/PokemonImg/6cc0d9b200be4ac696364b4615f3fdc9.jpg', 'Dataset2/PokemonImg/f54d783b10af47a288b773a5a146b033.jpg', 'Dataset2/PokemonImg/f43fa5519c2847b09597baea2c1e7077.jpg', 'Dataset2/PokemonImg/d4a11da59a0b40109fd69b5dc58c0b1c.jpg', 'Dataset2/PokemonImg/a068c41c8b8b46138205072bf6addf76.jpg', 'Dataset2/PokemonImg/cb7fa9b6c1394875beec40bb1bc3e796.jpg', 'Dataset2/PokemonImg/54f69bc61efc4dbbbf68d52802225f06.jpg', 'Dataset2/PokemonImg/c7479b7c2c604003bce5fef2ed0d1cfa.jpg', 'Dataset2/PokemonImg/000330c872bf494297840bc44b38f6e2.jpg', 'Dataset2/PokemonImg/d131f88e408a406b8c78bde392f6119d.jpg', 'Dataset2/PokemonImg/56195c706d1048d09ef394e0923c8926.jpg', 'Dataset2/PokemonImg/00000093.png', 'Dataset2/PokemonImg/d422a40dc048462cb798be5f5d17c6b8.jpg', 'Dataset2/PokemonImg/00000112.png', 'Dataset2/PokemonImg/00000196.png', 'Dataset2/PokemonImg/00000150.png', 'Dataset2/PokemonImg/d0fd79c83e5c4fff8d2fc717c97be1a5.jpg', 'Dataset2/PokemonImg/eefbbbba771a40b0b51a829e937fc0a6.jpg', 'Dataset2/PokemonImg/00000014.png', 'Dataset2/PokemonImg/00000069.png', 'Dataset2/PokemonImg/3a67696fa46a470eb8a8902d2ee158a2.jpg', 'Dataset2/PokemonImg/fa5cc860cfd64916bf96811a49c2897b.jpg', 'Dataset2/PokemonImg/37d347a4c8454c0e97cd78fff7f281f0.jpg', 'Dataset2/PokemonImg/08bfba70b982473195c16ee62900709b.jpg', 'Dataset2/PokemonImg/00000106.png', 'Dataset2/PokemonImg/fa7dcef3dde74ba9b282091b07b3e21c.jpg', 'Dataset2/PokemonImg/f4bd0994c341426096dede797c3a81eb.jpg', 'Dataset2/PokemonImg/e1ffe9f5df5f41549c98168df1b8355c.jpg', 'Dataset2/PokemonImg/00000232.png', 'Dataset2/PokemonImg/7e9d39d936224b8f9860d7ffacbf99b7.jpg', 'Dataset2/PokemonImg/90dc94cd85ba431785e4866123b855fc.jpg', 'Dataset2/PokemonImg/00000003.png', 'Dataset2/PokemonImg/1d8e562fbfd84bcb9a8ce7c68eebb744.jpg', 'Dataset2/PokemonImg/d401f87655b7440db2e81fcda156f922.jpg', 'Dataset2/PokemonImg/4cb9b3533f234e268258377287ad8d02.jpg', 'Dataset2/PokemonImg/24ebe8def6ac4754977d555bc05a9a9d.jpg', 'Dataset2/PokemonImg/d4a78b679d24464196757a72be2cfc47.jpg', 'Dataset2/PokemonImg/5024c4f932324956a4a328ea29518806.jpg', 'Dataset2/PokemonImg/5fe4df36393742b2be186d373af85895.jpg', 'Dataset2/PokemonImg/f36f6fe49f624121902c379612385bbd.jpg', 'Dataset2/PokemonImg/bdd69bb9ca6943e7b017c2a00564c5e0.jpg', 'Dataset2/PokemonImg/00000222.png', 'Dataset2/PokemonImg/00000020.png', 'Dataset2/PokemonImg/b27e7c5598344aceba4368fbf7980cd9.jpg', 'Dataset2/PokemonImg/cddb779a29f44aabb11ab4051848fc3f.jpg', 'Dataset2/PokemonImg/00000054.png', 'Dataset2/PokemonImg/258593fa009048599c4c334a197f6dfb.jpg', 'Dataset2/PokemonImg/23874395cee7470f9934900f49acae8f.jpg', 'Dataset2/PokemonImg/06d5210a595c40d3904243bce22804b3.jpg', 'Dataset2/PokemonImg/b0f2163d27ef4647a207e9b26408226f.jpg', 'Dataset2/PokemonImg/214e9bcda3f843c0b75240d587e392df.jpg', 'Dataset2/PokemonImg/60372f3bb85841f4b5c5e05d6657dfc9.jpg', 'Dataset2/PokemonImg/16f98796101341c18f8a4656010ebe05.jpg', 'Dataset2/PokemonImg/3eaad9fd9dfa4a0a85a3b4aa3b765166.jpg', 'Dataset2/PokemonImg/77ca2bc634e34e788a3b854745df0f88.jpg', 'Dataset2/PokemonImg/00000027.png', 'Dataset2/PokemonImg/00000238.png', 'Dataset2/PokemonImg/b01b71bee446437096628bab8a56d96c.jpg', 'Dataset2/PokemonImg/d3090bb2b513487d87958173f9a315dc.jpg', 'Dataset2/PokemonImg/a6497efd977c4f3d9dcb7b2a54d6f690.jpg', 'Dataset2/PokemonImg/e91e336f34cc4a39ab7eb67ff615d8bf.jpg', 'Dataset2/PokemonImg/00000090.png', 'Dataset2/PokemonImg/c830ddaa206141d2987556ea64f5df14.jpg', 'Dataset2/PokemonImg/0c639a4fa8e441328f1ce000367b2851.jpg', 'Dataset2/PokemonImg/0c2aba3dd3074b19892e3b45146f33a6.jpg', 'Dataset2/PokemonImg/8e5d838cecb344cc8db3bbed020ff8ae.jpg', 'Dataset2/PokemonImg/c2d5147c97d84bdca297626794060b4d.jpg', 'Dataset2/PokemonImg/e268cee8e1814ac29fe080ed00962900.jpg', 'Dataset2/PokemonImg/0190795a55e04fb1b8d08584212f4507.jpg', 'Dataset2/PokemonImg/b5f8aea6dfef47c389f036cb869b2611.jpg', 'Dataset2/PokemonImg/f1e95bd8c8da4b1281d1623592f259ea.jpg', 'Dataset2/PokemonImg/bb60cbac46f1404facf13c8264e86d2f.jpg', 'Dataset2/PokemonImg/00000036.png', 'Dataset2/PokemonImg/00000124.png', 'Dataset2/PokemonImg/ca9d222caae34ad49cd7ad64e26cbfde.jpg', 'Dataset2/PokemonImg/846f1dd8b3f041faaa2e5b9c379aa37a.jpg', 'Dataset2/PokemonImg/a1f30d54f9784662b708836ebef20178.jpg', 'Dataset2/PokemonImg/37ec20b005d2433ca650d2c5588ac6e1.jpg', 'Dataset2/PokemonImg/54696080dbe54d86adacc0eb7f2b6246.jpg', 'Dataset2/PokemonImg/00000083.png', 'Dataset2/PokemonImg/b0e11a2e94a14514806d308ab19c8b56.jpg', 'Dataset2/PokemonImg/4c3961876f204980b94523bb618d1e81.jpg', 'Dataset2/PokemonImg/eaa5f13f498d44debd44ecd3840f644e.jpg', 'Dataset2/PokemonImg/00000045.png', 'Dataset2/PokemonImg/e9e7c50a0595476aab0697419ac2a0b3.jpg', 'Dataset2/PokemonImg/2e099a03d0a94ed6b0c020838dff16ae.jpg', 'Dataset2/PokemonImg/00000210.png', 'Dataset2/PokemonImg/85653de0968e40ffb031f3b0d15dbd8c.jpg', 'Dataset2/PokemonImg/00000013.png', 'Dataset2/PokemonImg/812efb02ac1f445f9c5fb4b8477262ac.jpg', 'Dataset2/PokemonImg/95993024361e4de6a164dc948f6715d7.jpg', 'Dataset2/PokemonImg/00000233.png', 'Dataset2/PokemonImg/00000143.png', 'Dataset2/PokemonImg/f2cc37e5f8794863923a0e9c5cd6ac7f.jpg', 'Dataset2/PokemonImg/610475186307470ea2694c14764a0e7b.jpg', 'Dataset2/PokemonImg/00000108.png', 'Dataset2/PokemonImg/05e7ae416d91489dbf71fbe333aff4b8.jpg', 'Dataset2/PokemonImg/8242187536dc4399affda7e0e6aa68a2.jpg', 'Dataset2/PokemonImg/0d7660d5de344d848ca9c7f1a22ca577.jpg', 'Dataset2/PokemonImg/00000105.png', 'Dataset2/PokemonImg/87d5ae5467564a6bafa4d2ea5f0d1d1a.jpg', 'Dataset2/PokemonImg/8a574b1321ba4eb495bd35b845470809.jpg', 'Dataset2/PokemonImg/a79339fd861f478ab00c3f8e4e5903b7.jpg', 'Dataset2/PokemonImg/00000039.png', 'Dataset2/PokemonImg/00000157.png', 'Dataset2/PokemonImg/05a6988da8384668b9a8ab9c8cd26aac.jpg', 'Dataset2/PokemonImg/00000154.png', 'Dataset2/PokemonImg/00000044.png', 'Dataset2/PokemonImg/2d0848bba2ea406a8ad91e91ec6a1563.jpg', 'Dataset2/PokemonImg/779d1275ab134cfc9f9b057daa1ed583.jpg', 'Dataset2/PokemonImg/cbfc1bbdc5074e398c205a11dc7bef9d.jpg', 'Dataset2/PokemonImg/da5fe43770974b05ace159ccb1e8b13d.jpg', 'Dataset2/PokemonImg/8280785371a1445d9260a1b5bb1df053.jpg', 'Dataset2/PokemonImg/2d5d7cb303d5407f9bad8bc1e5698f2f.jpg', 'Dataset2/PokemonImg/07cfd5963517439fa0be9c2768cb6db7.jpg', 'Dataset2/PokemonImg/560e0a0ca2b14fec913984a40d995d4f.jpg', 'Dataset2/PokemonImg/22ffe7349668423ebf9c63f57e805097.jpg', 'Dataset2/PokemonImg/77fa3688675a434eb21d0b7dcf80cc13.jpg', 'Dataset2/PokemonImg/f0c24f31e8064c5dabf11e92918f3c82.jpg', 'Dataset2/PokemonImg/422af88ab7c04a3f9ab94a9893c86a66.jpg', 'Dataset2/PokemonImg/8dbf8d85afc844ddbb848d0a680f630a.jpg', 'Dataset2/PokemonImg/9eedf44bf528469facf10b1004a55ceb.jpg', 'Dataset2/PokemonImg/87391ad3e8ad4b40b4467c11231b3d3c.jpg', 'Dataset2/PokemonImg/bea61c2262674b6ca8e4bc72beaa25c5.jpg', 'Dataset2/PokemonImg/00000034.png', 'Dataset2/PokemonImg/b83bcdb817244118856a9a594818de4b.jpg', 'Dataset2/PokemonImg/c4b3521b1167443fb88fe2a334de558a.jpg', 'Dataset2/PokemonImg/00000212.png', 'Dataset2/PokemonImg/a0080f42f9be44998f034b567806e61a.jpg', 'Dataset2/PokemonImg/00000229.png', 'Dataset2/PokemonImg/46abc178db1045159ddd6f4787aa1749.jpg', 'Dataset2/PokemonImg/af5963a7d02a4ec89d39609b1ebe08b2.jpg', 'Dataset2/PokemonImg/00000155.png', 'Dataset2/PokemonImg/00000000.png', 'Dataset2/PokemonImg/00000008.png', 'Dataset2/PokemonImg/00000019.png', 'Dataset2/PokemonImg/a9e0e66523a5477fb8cb58b57d89af24.jpg', 'Dataset2/PokemonImg/50a5848021e14912821a5a9c7e33ae54.jpg', 'Dataset2/PokemonImg/4609351fd6c145238e46733a005064e1.jpg', 'Dataset2/PokemonImg/624d0681c42142b986824e35b25dfbf7.jpg', 'Dataset2/PokemonImg/00000075.jpg']\n"
          ]
        }
      ],
      "source": [
        "from PIL import Image\n",
        "import os\n",
        "\n",
        "def is_grayscale(image_path):\n",
        "    img = Image.open(image_path)\n",
        "    return img.mode == 'L'  # 'L' indicates grayscale mode in PIL\n",
        "\n",
        "def is_4d(image_path):\n",
        "    img = Image.open(image_path)\n",
        "    return len(img.getbands()) == 4  # Check if the image has 4 channels\n",
        "\n",
        "# Replace 'your_dataset_folder' with the path to your dataset folder\n",
        "dataset_folder = 'Dataset2'\n",
        "unwanted_images = []\n",
        "\n",
        "for root, dirs, files in os.walk(dataset_folder):\n",
        "    for file in files:\n",
        "        image_path = os.path.join(root, file)\n",
        "        if is_grayscale(image_path) or is_4d(image_path):\n",
        "            unwanted_images.append(image_path)\n",
        "\n",
        "print(f\"Number of unwanted images: {len(unwanted_images)}\")\n",
        "print(unwanted_images)\n"
      ]
    },
    {
      "cell_type": "code",
      "execution_count": null,
      "metadata": {
        "id": "zVHu4t8N-uJU"
      },
      "outputs": [],
      "source": [
        "D = Discriminator(in_channel=IMAGE_DIM[-1]).to(DEVICE)\n",
        "G = Generator(out_channel=IMAGE_DIM[-1]).to(DEVICE)"
      ]
    },
    {
      "cell_type": "code",
      "execution_count": null,
      "metadata": {
        "id": "e1o_KulR_9xD"
      },
      "outputs": [],
      "source": [
        "from PIL import Image\n",
        "\n",
        "def convert_palette_to_rgba(image):\n",
        "    if image.mode == 'P':\n",
        "        return image.convert('RGBA')\n",
        "    return image\n",
        "\n",
        "\n",
        "transform = transforms.Compose([\n",
        "    #transforms.Lambda(convert_palette_to_rgba),  # Convert palette images to RGBA\n",
        "    transforms.Resize((IMAGE_DIM[0], IMAGE_DIM[1])),\n",
        "    #transforms.Grayscale(num_output_channels=3),  # Convert to RGB format\n",
        "    transforms.ToTensor(),\n",
        "    transforms.Normalize(mean=(0.5,), std=(0.5,))\n",
        "])\n",
        "\n"
      ]
    },
    {
      "cell_type": "code",
      "execution_count": null,
      "metadata": {
        "id": "7gVtnlhWACIx"
      },
      "outputs": [],
      "source": [
        "dataset = POKE(data_path='Dataset2/PokemonImg',transform=transform,grayscale_images=unwanted_images)"
      ]
    },
    {
      "cell_type": "code",
      "execution_count": null,
      "metadata": {
        "id": "7HbzUOZyT-5o"
      },
      "outputs": [],
      "source": [
        "len(dataset)\n",
        "remaining_grayscale_images = []\n",
        "for idx in range(len(dataset)):\n",
        "    img_path = dataset.fpaths[idx]\n",
        "    if is_grayscale(img_path):\n",
        "        remaining_grayscale_images.append(img_path)\n",
        "\n"
      ]
    },
    {
      "cell_type": "code",
      "execution_count": null,
      "metadata": {
        "colab": {
          "base_uri": "https://localhost:8080/"
        },
        "id": "GcQqe3vYbW0y",
        "outputId": "e7a14e25-da99-42e2-9f93-e331808a7da7"
      },
      "outputs": [
        {
          "data": {
            "text/plain": [
              "0"
            ]
          },
          "execution_count": 418,
          "metadata": {},
          "output_type": "execute_result"
        }
      ],
      "source": [
        "len(remaining_grayscale_images)"
      ]
    },
    {
      "cell_type": "code",
      "execution_count": null,
      "metadata": {
        "id": "eUYNTDqeTk2I"
      },
      "outputs": [],
      "source": [
        "batch_size = 64"
      ]
    },
    {
      "cell_type": "markdown",
      "metadata": {
        "id": "EkLNn0cyJI_O"
      },
      "source": [
        "# Ensuring consistent Image dimensions in all batches"
      ]
    },
    {
      "cell_type": "code",
      "execution_count": null,
      "metadata": {
        "id": "MKx59ITDe0F2"
      },
      "outputs": [],
      "source": [
        "from torch.utils.data import DataLoader\n",
        "from torchvision import transforms\n",
        "# Define your collate_fn function\n",
        "def collate_fn(batch):\n",
        "    max_height = max([img.shape[1] for img in batch])\n",
        "    max_width = max([img.shape[2] for img in batch])\n",
        "\n",
        "    padded_images = []\n",
        "    for img in batch:\n",
        "        c, h, w = img.shape\n",
        "        padded_img = torch.zeros(3, max_height, max_width)\n",
        "        padded_img[:, :h, :w] = img\n",
        "        padded_images.append(padded_img)\n",
        "\n",
        "    return torch.stack(padded_images)\n",
        "\n"
      ]
    },
    {
      "cell_type": "code",
      "execution_count": null,
      "metadata": {
        "id": "sD21SzPFANTq"
      },
      "outputs": [],
      "source": [
        "data_loader = DataLoader(dataset=dataset, batch_size=batch_size, shuffle=True, drop_last=True, num_workers=8, collate_fn=collate_fn)\n"
      ]
    },
    {
      "cell_type": "code",
      "execution_count": null,
      "metadata": {
        "colab": {
          "base_uri": "https://localhost:8080/"
        },
        "id": "uwOpfnridriz",
        "outputId": "d95afd73-3d7e-4265-d558-a566a2a7b1b3"
      },
      "outputs": [
        {
          "name": "stdout",
          "output_type": "stream",
          "text": [
            "Batch Index: 0\n",
            "Batch Shape: torch.Size([64, 3, 32, 32])\n",
            "Batch Index: 1\n",
            "Batch Shape: torch.Size([64, 3, 32, 32])\n",
            "Batch Index: 2\n",
            "Batch Shape: torch.Size([64, 3, 32, 32])\n",
            "Batch Index: 3\n",
            "Batch Shape: torch.Size([64, 3, 32, 32])\n",
            "Batch Index: 4\n",
            "Batch Shape: torch.Size([64, 3, 32, 32])\n",
            "Batch Index: 5\n",
            "Batch Shape: torch.Size([64, 3, 32, 32])\n",
            "Batch Index: 6\n",
            "Batch Shape: torch.Size([64, 3, 32, 32])\n",
            "Batch Index: 7\n",
            "Batch Shape: torch.Size([64, 3, 32, 32])\n",
            "Batch Index: 8\n",
            "Batch Shape: torch.Size([64, 3, 32, 32])\n",
            "Batch Index: 9\n",
            "Batch Shape: torch.Size([64, 3, 32, 32])\n",
            "Batch Index: 10\n",
            "Batch Shape: torch.Size([64, 3, 32, 32])\n",
            "Batch Index: 11\n",
            "Batch Shape: torch.Size([64, 3, 32, 32])\n",
            "Batch Index: 12\n",
            "Batch Shape: torch.Size([64, 3, 32, 32])\n",
            "Batch Index: 13\n",
            "Batch Shape: torch.Size([64, 3, 32, 32])\n",
            "Batch Index: 14\n",
            "Batch Shape: torch.Size([64, 3, 32, 32])\n",
            "Batch Index: 15\n",
            "Batch Shape: torch.Size([64, 3, 32, 32])\n",
            "Batch Index: 16\n",
            "Batch Shape: torch.Size([64, 3, 32, 32])\n",
            "Batch Index: 17\n",
            "Batch Shape: torch.Size([64, 3, 32, 32])\n",
            "Batch Index: 18\n",
            "Batch Shape: torch.Size([64, 3, 32, 32])\n",
            "Batch Index: 19\n",
            "Batch Shape: torch.Size([64, 3, 32, 32])\n",
            "Batch Index: 20\n",
            "Batch Shape: torch.Size([64, 3, 32, 32])\n",
            "Batch Index: 21\n",
            "Batch Shape: torch.Size([64, 3, 32, 32])\n",
            "Batch Index: 22\n",
            "Batch Shape: torch.Size([64, 3, 32, 32])\n",
            "Batch Index: 23\n",
            "Batch Shape: torch.Size([64, 3, 32, 32])\n",
            "Batch Index: 24\n",
            "Batch Shape: torch.Size([64, 3, 32, 32])\n",
            "Batch Index: 25\n",
            "Batch Shape: torch.Size([64, 3, 32, 32])\n",
            "Batch Index: 26\n",
            "Batch Shape: torch.Size([64, 3, 32, 32])\n",
            "Batch Index: 27\n",
            "Batch Shape: torch.Size([64, 3, 32, 32])\n",
            "Batch Index: 28\n",
            "Batch Shape: torch.Size([64, 3, 32, 32])\n",
            "Batch Index: 29\n",
            "Batch Shape: torch.Size([64, 3, 32, 32])\n",
            "Batch Index: 30\n",
            "Batch Shape: torch.Size([64, 3, 32, 32])\n",
            "Batch Index: 31\n",
            "Batch Shape: torch.Size([64, 3, 32, 32])\n",
            "Batch Index: 32\n",
            "Batch Shape: torch.Size([64, 3, 32, 32])\n",
            "Batch Index: 33\n",
            "Batch Shape: torch.Size([64, 3, 32, 32])\n",
            "Batch Index: 34\n",
            "Batch Shape: torch.Size([64, 3, 32, 32])\n",
            "Batch Index: 35\n",
            "Batch Shape: torch.Size([64, 3, 32, 32])\n",
            "Batch Index: 36\n",
            "Batch Shape: torch.Size([64, 3, 32, 32])\n",
            "Batch Index: 37\n",
            "Batch Shape: torch.Size([64, 3, 32, 32])\n",
            "Batch Index: 38\n",
            "Batch Shape: torch.Size([64, 3, 32, 32])\n",
            "Batch Index: 39\n",
            "Batch Shape: torch.Size([64, 3, 32, 32])\n",
            "Batch Index: 40\n",
            "Batch Shape: torch.Size([64, 3, 32, 32])\n",
            "Batch Index: 41\n",
            "Batch Shape: torch.Size([64, 3, 32, 32])\n",
            "Batch Index: 42\n",
            "Batch Shape: torch.Size([64, 3, 32, 32])\n",
            "Batch Index: 43\n",
            "Batch Shape: torch.Size([64, 3, 32, 32])\n",
            "Batch Index: 44\n",
            "Batch Shape: torch.Size([64, 3, 32, 32])\n",
            "Batch Index: 45\n",
            "Batch Shape: torch.Size([64, 3, 32, 32])\n",
            "Batch Index: 46\n",
            "Batch Shape: torch.Size([64, 3, 32, 32])\n",
            "Batch Index: 47\n",
            "Batch Shape: torch.Size([64, 3, 32, 32])\n",
            "Batch Index: 48\n",
            "Batch Shape: torch.Size([64, 3, 32, 32])\n",
            "Batch Index: 49\n",
            "Batch Shape: torch.Size([64, 3, 32, 32])\n",
            "Batch Index: 50\n",
            "Batch Shape: torch.Size([64, 3, 32, 32])\n",
            "Batch Index: 51\n",
            "Batch Shape: torch.Size([64, 3, 32, 32])\n",
            "Batch Index: 52\n",
            "Batch Shape: torch.Size([64, 3, 32, 32])\n",
            "Batch Index: 53\n",
            "Batch Shape: torch.Size([64, 3, 32, 32])\n",
            "Batch Index: 54\n",
            "Batch Shape: torch.Size([64, 3, 32, 32])\n",
            "Batch Index: 55\n",
            "Batch Shape: torch.Size([64, 3, 32, 32])\n",
            "Batch Index: 56\n",
            "Batch Shape: torch.Size([64, 3, 32, 32])\n",
            "Batch Index: 57\n",
            "Batch Shape: torch.Size([64, 3, 32, 32])\n",
            "Batch Index: 58\n",
            "Batch Shape: torch.Size([64, 3, 32, 32])\n",
            "Batch Index: 59\n",
            "Batch Shape: torch.Size([64, 3, 32, 32])\n",
            "Batch Index: 60\n",
            "Batch Shape: torch.Size([64, 3, 32, 32])\n",
            "Batch Index: 61\n",
            "Batch Shape: torch.Size([64, 3, 32, 32])\n",
            "Batch Index: 62\n",
            "Batch Shape: torch.Size([64, 3, 32, 32])\n",
            "Batch Index: 63\n",
            "Batch Shape: torch.Size([64, 3, 32, 32])\n",
            "Batch Index: 64\n",
            "Batch Shape: torch.Size([64, 3, 32, 32])\n",
            "Batch Index: 65\n",
            "Batch Shape: torch.Size([64, 3, 32, 32])\n",
            "Batch Index: 66\n",
            "Batch Shape: torch.Size([64, 3, 32, 32])\n",
            "Batch Index: 67\n",
            "Batch Shape: torch.Size([64, 3, 32, 32])\n",
            "Batch Index: 68\n",
            "Batch Shape: torch.Size([64, 3, 32, 32])\n",
            "Batch Index: 69\n",
            "Batch Shape: torch.Size([64, 3, 32, 32])\n",
            "Batch Index: 70\n",
            "Batch Shape: torch.Size([64, 3, 32, 32])\n",
            "Batch Index: 71\n",
            "Batch Shape: torch.Size([64, 3, 32, 32])\n",
            "Batch Index: 72\n",
            "Batch Shape: torch.Size([64, 3, 32, 32])\n",
            "Batch Index: 73\n",
            "Batch Shape: torch.Size([64, 3, 32, 32])\n",
            "Batch Index: 74\n",
            "Batch Shape: torch.Size([64, 3, 32, 32])\n",
            "Batch Index: 75\n",
            "Batch Shape: torch.Size([64, 3, 32, 32])\n",
            "Batch Index: 76\n",
            "Batch Shape: torch.Size([64, 3, 32, 32])\n",
            "Batch Index: 77\n",
            "Batch Shape: torch.Size([64, 3, 32, 32])\n",
            "Batch Index: 78\n",
            "Batch Shape: torch.Size([64, 3, 32, 32])\n",
            "Batch Index: 79\n",
            "Batch Shape: torch.Size([64, 3, 32, 32])\n",
            "Batch Index: 80\n",
            "Batch Shape: torch.Size([64, 3, 32, 32])\n",
            "Batch Index: 81\n",
            "Batch Shape: torch.Size([64, 3, 32, 32])\n",
            "Batch Index: 82\n",
            "Batch Shape: torch.Size([64, 3, 32, 32])\n",
            "Batch Index: 83\n",
            "Batch Shape: torch.Size([64, 3, 32, 32])\n",
            "Batch Index: 84\n",
            "Batch Shape: torch.Size([64, 3, 32, 32])\n",
            "Batch Index: 85\n",
            "Batch Shape: torch.Size([64, 3, 32, 32])\n",
            "Batch Index: 86\n",
            "Batch Shape: torch.Size([64, 3, 32, 32])\n",
            "Batch Index: 87\n",
            "Batch Shape: torch.Size([64, 3, 32, 32])\n",
            "Batch Index: 88\n",
            "Batch Shape: torch.Size([64, 3, 32, 32])\n",
            "Batch Index: 89\n",
            "Batch Shape: torch.Size([64, 3, 32, 32])\n",
            "Batch Index: 90\n",
            "Batch Shape: torch.Size([64, 3, 32, 32])\n",
            "Batch Index: 91\n",
            "Batch Shape: torch.Size([64, 3, 32, 32])\n",
            "Batch Index: 92\n",
            "Batch Shape: torch.Size([64, 3, 32, 32])\n",
            "Batch Index: 93\n",
            "Batch Shape: torch.Size([64, 3, 32, 32])\n",
            "Batch Index: 94\n",
            "Batch Shape: torch.Size([64, 3, 32, 32])\n",
            "Batch Index: 95\n",
            "Batch Shape: torch.Size([64, 3, 32, 32])\n",
            "Batch Index: 96\n",
            "Batch Shape: torch.Size([64, 3, 32, 32])\n",
            "Batch Index: 97\n",
            "Batch Shape: torch.Size([64, 3, 32, 32])\n",
            "Batch Index: 98\n",
            "Batch Shape: torch.Size([64, 3, 32, 32])\n",
            "Batch Index: 99\n",
            "Batch Shape: torch.Size([64, 3, 32, 32])\n",
            "Batch Index: 100\n",
            "Batch Shape: torch.Size([64, 3, 32, 32])\n",
            "Batch Index: 101\n",
            "Batch Shape: torch.Size([64, 3, 32, 32])\n",
            "Batch Index: 102\n",
            "Batch Shape: torch.Size([64, 3, 32, 32])\n",
            "Batch Index: 103\n",
            "Batch Shape: torch.Size([64, 3, 32, 32])\n",
            "Batch Index: 104\n",
            "Batch Shape: torch.Size([64, 3, 32, 32])\n",
            "Batch Index: 105\n",
            "Batch Shape: torch.Size([64, 3, 32, 32])\n",
            "Batch Index: 106\n",
            "Batch Shape: torch.Size([64, 3, 32, 32])\n",
            "Batch Index: 107\n",
            "Batch Shape: torch.Size([64, 3, 32, 32])\n",
            "Batch Index: 108\n",
            "Batch Shape: torch.Size([64, 3, 32, 32])\n",
            "Batch Index: 109\n",
            "Batch Shape: torch.Size([64, 3, 32, 32])\n",
            "Batch Index: 110\n",
            "Batch Shape: torch.Size([64, 3, 32, 32])\n",
            "Batch Index: 111\n",
            "Batch Shape: torch.Size([64, 3, 32, 32])\n",
            "Batch Index: 112\n",
            "Batch Shape: torch.Size([64, 3, 32, 32])\n",
            "Batch Index: 113\n",
            "Batch Shape: torch.Size([64, 3, 32, 32])\n",
            "Batch Index: 114\n",
            "Batch Shape: torch.Size([64, 3, 32, 32])\n",
            "Batch Index: 115\n",
            "Batch Shape: torch.Size([64, 3, 32, 32])\n",
            "Batch Index: 116\n",
            "Batch Shape: torch.Size([64, 3, 32, 32])\n",
            "Batch Index: 117\n",
            "Batch Shape: torch.Size([64, 3, 32, 32])\n",
            "Batch Index: 118\n",
            "Batch Shape: torch.Size([64, 3, 32, 32])\n",
            "Batch Index: 119\n",
            "Batch Shape: torch.Size([64, 3, 32, 32])\n",
            "Batch Index: 120\n",
            "Batch Shape: torch.Size([64, 3, 32, 32])\n",
            "Batch Index: 121\n",
            "Batch Shape: torch.Size([64, 3, 32, 32])\n",
            "Batch Index: 122\n",
            "Batch Shape: torch.Size([64, 3, 32, 32])\n",
            "Batch Index: 123\n",
            "Batch Shape: torch.Size([64, 3, 32, 32])\n",
            "Batch Index: 124\n",
            "Batch Shape: torch.Size([64, 3, 32, 32])\n",
            "Batch Index: 125\n",
            "Batch Shape: torch.Size([64, 3, 32, 32])\n",
            "Batch Index: 126\n",
            "Batch Shape: torch.Size([64, 3, 32, 32])\n",
            "Batch Index: 127\n",
            "Batch Shape: torch.Size([64, 3, 32, 32])\n",
            "Batch Index: 128\n",
            "Batch Shape: torch.Size([64, 3, 32, 32])\n",
            "Batch Index: 129\n",
            "Batch Shape: torch.Size([64, 3, 32, 32])\n",
            "Batch Index: 130\n",
            "Batch Shape: torch.Size([64, 3, 32, 32])\n",
            "Batch Index: 131\n",
            "Batch Shape: torch.Size([64, 3, 32, 32])\n",
            "Batch Index: 132\n",
            "Batch Shape: torch.Size([64, 3, 32, 32])\n",
            "Batch Index: 133\n",
            "Batch Shape: torch.Size([64, 3, 32, 32])\n",
            "Batch Index: 134\n",
            "Batch Shape: torch.Size([64, 3, 32, 32])\n",
            "Batch Index: 135\n",
            "Batch Shape: torch.Size([64, 3, 32, 32])\n",
            "Batch Index: 136\n",
            "Batch Shape: torch.Size([64, 3, 32, 32])\n",
            "Batch Index: 137\n",
            "Batch Shape: torch.Size([64, 3, 32, 32])\n",
            "Batch Index: 138\n",
            "Batch Shape: torch.Size([64, 3, 32, 32])\n",
            "Batch Index: 139\n",
            "Batch Shape: torch.Size([64, 3, 32, 32])\n",
            "Batch Index: 140\n",
            "Batch Shape: torch.Size([64, 3, 32, 32])\n",
            "Batch Index: 141\n",
            "Batch Shape: torch.Size([64, 3, 32, 32])\n",
            "Batch Index: 142\n",
            "Batch Shape: torch.Size([64, 3, 32, 32])\n",
            "Batch Index: 143\n",
            "Batch Shape: torch.Size([64, 3, 32, 32])\n",
            "Batch Index: 144\n",
            "Batch Shape: torch.Size([64, 3, 32, 32])\n",
            "Batch Index: 145\n",
            "Batch Shape: torch.Size([64, 3, 32, 32])\n"
          ]
        }
      ],
      "source": [
        "for batch_idx, batch in enumerate(data_loader):\n",
        "    print(f\"Batch Index: {batch_idx}\")\n",
        "    print(f\"Batch Shape: {batch.shape}\")  # Check the shape of the batch\n"
      ]
    },
    {
      "cell_type": "code",
      "execution_count": null,
      "metadata": {
        "id": "fiBD_ZzCAP6e"
      },
      "outputs": [],
      "source": [
        "criterion = nn.BCELoss()\n",
        "D_opt = torch.optim.Adam(D.parameters(), lr=0.001, betas=(0.5, 0.999))\n",
        "G_opt = torch.optim.Adam(G.parameters(), lr=0.001, betas=(0.5, 0.999))"
      ]
    },
    {
      "cell_type": "code",
      "execution_count": null,
      "metadata": {
        "id": "WEdVZ3mDASg0"
      },
      "outputs": [],
      "source": [
        "max_epoch = 100\n",
        "step = 0\n",
        "n_critic = 1 # for training more k steps about Discriminator\n",
        "n_noise = 100"
      ]
    },
    {
      "cell_type": "code",
      "execution_count": null,
      "metadata": {
        "id": "6HNnfIghAVFN"
      },
      "outputs": [],
      "source": [
        "D_labels = torch.ones([batch_size, 1]).to(DEVICE) # Discriminator Label to real\n",
        "D_fakes = torch.zeros([batch_size, 1]).to(DEVICE) # Discriminator Label to fake"
      ]
    },
    {
      "cell_type": "markdown",
      "metadata": {
        "id": "pQcLQijfJQPa"
      },
      "source": [
        "# Model Training"
      ]
    },
    {
      "cell_type": "code",
      "execution_count": null,
      "metadata": {
        "colab": {
          "base_uri": "https://localhost:8080/"
        },
        "id": "P5zQXYRuAXyb",
        "outputId": "244458fa-5cf6-46e2-c1a0-f6800e5e92cc"
      },
      "outputs": [
        {
          "name": "stdout",
          "output_type": "stream",
          "text": [
            "Epoch: 0/100, Step: 0, D Loss: 1.3977, G Loss: 0.7229, Time:15:19:54\n",
            "Epoch: 3/100, Step: 500, D Loss: 1.2309, G Loss: 1.1277, Time:15:20:42\n",
            "Epoch: 6/100, Step: 1000, D Loss: 1.3432, G Loss: 1.4835, Time:15:21:29\n",
            "Epoch: 10/100, Step: 1500, D Loss: 0.9868, G Loss: 1.2848, Time:15:22:17\n",
            "Epoch: 13/100, Step: 2000, D Loss: 0.8722, G Loss: 1.8350, Time:15:23:05\n",
            "Epoch: 17/100, Step: 2500, D Loss: 1.6693, G Loss: 3.0757, Time:15:23:53\n",
            "Epoch: 20/100, Step: 3000, D Loss: 0.7738, G Loss: 1.4078, Time:15:24:41\n",
            "Epoch: 23/100, Step: 3500, D Loss: 0.6457, G Loss: 2.6568, Time:15:25:28\n",
            "Epoch: 27/100, Step: 4000, D Loss: 0.7653, G Loss: 3.5519, Time:15:26:17\n",
            "Epoch: 30/100, Step: 4500, D Loss: 0.7627, G Loss: 1.9473, Time:15:27:04\n",
            "Epoch: 34/100, Step: 5000, D Loss: 0.7835, G Loss: 2.1899, Time:15:27:51\n",
            "Epoch: 37/100, Step: 5500, D Loss: 0.3354, G Loss: 1.9604, Time:15:28:38\n",
            "Epoch: 41/100, Step: 6000, D Loss: 1.0873, G Loss: 3.4764, Time:15:29:25\n",
            "Epoch: 44/100, Step: 6500, D Loss: 0.5611, G Loss: 5.4933, Time:15:30:12\n",
            "Epoch: 47/100, Step: 7000, D Loss: 0.7636, G Loss: 2.6020, Time:15:30:58\n",
            "Epoch: 51/100, Step: 7500, D Loss: 0.6632, G Loss: 3.3743, Time:15:31:46\n",
            "Epoch: 54/100, Step: 8000, D Loss: 0.2293, G Loss: 3.5712, Time:15:32:34\n",
            "Epoch: 58/100, Step: 8500, D Loss: 0.4533, G Loss: 2.7277, Time:15:33:23\n",
            "Epoch: 61/100, Step: 9000, D Loss: 0.0860, G Loss: 5.8334, Time:15:34:11\n",
            "Epoch: 65/100, Step: 9500, D Loss: 0.3593, G Loss: 3.5486, Time:15:34:58\n",
            "Epoch: 68/100, Step: 10000, D Loss: 0.3173, G Loss: 4.5558, Time:15:35:45\n",
            "Epoch: 71/100, Step: 10500, D Loss: 0.7002, G Loss: 4.0291, Time:15:36:33\n",
            "Epoch: 75/100, Step: 11000, D Loss: 0.4601, G Loss: 7.0551, Time:15:37:21\n",
            "Epoch: 78/100, Step: 11500, D Loss: 0.4056, G Loss: 4.4353, Time:15:38:08\n",
            "Epoch: 82/100, Step: 12000, D Loss: 0.2157, G Loss: 6.1440, Time:15:38:57\n",
            "Epoch: 85/100, Step: 12500, D Loss: 0.6102, G Loss: 1.2891, Time:15:39:43\n",
            "Epoch: 89/100, Step: 13000, D Loss: 0.9247, G Loss: 7.3651, Time:15:40:32\n",
            "Epoch: 92/100, Step: 13500, D Loss: 0.5548, G Loss: 3.4694, Time:15:41:19\n",
            "Epoch: 95/100, Step: 14000, D Loss: 0.1003, G Loss: 5.9079, Time:15:42:07\n",
            "Epoch: 99/100, Step: 14500, D Loss: 0.1499, G Loss: 4.5593, Time:15:42:56\n"
          ]
        }
      ],
      "source": [
        "for epoch in range(max_epoch):\n",
        "    for idx, images in enumerate(data_loader):\n",
        "        # Training Discriminator\n",
        "        x = images.to(DEVICE)\n",
        "        x_outputs = D(x)\n",
        "        D_x_loss = criterion(x_outputs, D_labels)\n",
        "\n",
        "        z = torch.randn(batch_size, n_noise).to(DEVICE)\n",
        "        z_outputs = D(G(z))\n",
        "        D_z_loss = criterion(z_outputs, D_fakes)\n",
        "        D_loss = D_x_loss + D_z_loss\n",
        "\n",
        "        D.zero_grad()\n",
        "        D_loss.backward()\n",
        "        D_opt.step()\n",
        "\n",
        "        if step % n_critic == 0:\n",
        "            # Training Generator\n",
        "            z = torch.randn(batch_size, n_noise).to(DEVICE)\n",
        "            z_outputs = D(G(z))\n",
        "            G_loss = criterion(z_outputs, D_labels)\n",
        "\n",
        "            D.zero_grad()\n",
        "            G.zero_grad()\n",
        "            G_loss.backward()\n",
        "            G_opt.step()\n",
        "\n",
        "        if step % 500 == 0:\n",
        "            dt = datetime.datetime.now().strftime('%H:%M:%S')\n",
        "            print('Epoch: {}/{}, Step: {}, D Loss: {:.4f}, G Loss: {:.4f}, Time:{}'.format(epoch, max_epoch, step, D_loss.item(), G_loss.item(), dt))\n",
        "            G.eval()\n",
        "            img = get_sample_image(G, n_noise)\n",
        "            # create folder by right clicking in the file window and name the folder 'samples'\n",
        "            #imsave('content/samples/{}_step{:05d}.jpg'.format(MODEL_NAME, step), img[0])\n",
        "            G.train()\n",
        "        step += 1"
      ]
    },
    {
      "cell_type": "markdown",
      "metadata": {
        "id": "5D_rpBO3JUGA"
      },
      "source": [
        "# Results"
      ]
    },
    {
      "cell_type": "code",
      "execution_count": null,
      "metadata": {
        "colab": {
          "base_uri": "https://localhost:8080/",
          "height": 447
        },
        "id": "xtTYZIj9Abwk",
        "outputId": "9b082380-024e-4fcc-eacd-b948d33cb9e0"
      },
      "outputs": [
        {
          "data": {
            "text/plain": [
              "<matplotlib.image.AxesImage at 0x796d000b3700>"
            ]
          },
          "execution_count": 455,
          "metadata": {},
          "output_type": "execute_result"
        },
        {
          "data": {
            "image/png": "[encoded data removed]",
            "text/plain": [
              "<Figure size 640x480 with 1 Axes>"
            ]
          },
          "metadata": {},
          "output_type": "display_data"
        }
      ],
      "source": [
        "G.eval()#Generated Image sample\n",
        "imshow(get_sample_image(G, n_noise)[0])"
      ]
    },
    {
      "cell_type": "code",
      "execution_count": null,
      "metadata": {
        "colab": {
          "base_uri": "https://localhost:8080/",
          "height": 447
        },
        "id": "urFjSNK1EJfm",
        "outputId": "0a2016b0-8729-43c4-8bad-c6a53289fceb"
      },
      "outputs": [
        {
          "data": {
            "text/plain": [
              "<matplotlib.image.AxesImage at 0x796ced7a7160>"
            ]
          },
          "execution_count": 460,
          "metadata": {},
          "output_type": "execute_result"
        },
        {
          "data": {
            "image/png": "[encoded data removed]",
            "text/plain": [
              "<Figure size 640x480 with 1 Axes>"
            ]
          },
          "metadata": {},
          "output_type": "display_data"
        }
      ],
      "source": [
        "t = Image.open(dataset.fpaths[31])#Actual Pokemon image sample\n",
        "t = (transform(t).permute(1, 2, 0)+1)/2.\n",
        "imshow(t)"
      ]
    },
    {
      "cell_type": "code",
      "execution_count": null,
      "metadata": {
        "id": "woBZQU7dH0Jl"
      },
      "outputs": [],
      "source": [
        "transform = transforms.Compose([transforms.Resize((IMAGE_DIM[0],IMAGE_DIM[1])),\n",
        "                                transforms.ToTensor(),\n",
        "                                transforms.Normalize(mean=(0.5, 0.5, 0.5),\n",
        "                                std=(0.5, 0.5, 0.5))\n",
        "                               ]\n",
        ")"
      ]
    }
  ],
  "metadata": {
    "accelerator": "GPU",
    "colab": {
      "gpuType": "T4",
      "machine_shape": "hm",
      "provenance": []
    },
    "kernelspec": {
      "display_name": "Python 3",
      "name": "python3"
    },
    "language_info": {
      "name": "python"
    }
  },
  "nbformat": 4,
  "nbformat_minor": 0
}
